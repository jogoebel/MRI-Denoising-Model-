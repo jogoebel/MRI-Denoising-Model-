{
 "cells": [
  {
   "cell_type": "code",
   "execution_count": 1,
   "id": "3a9cc952-76d4-4c52-9631-7b03e944b768",
   "metadata": {},
   "outputs": [],
   "source": [
    "import os\n",
    "\n",
    "import numpy as np\n",
    "import math\n",
    "import time\n",
    "from tqdm import tqdm #time module progress bar\n",
    "import matplotlib.pyplot as plt\n",
    "from random import shuffle\n",
    "import torch\n",
    "from torch.utils.data import Dataset, DataLoader\n",
    "import shutil \n",
    "import json\n",
    "from bm3d import bm3d\n",
    "import matplotlib.pyplot as plt\n",
    "from bm3d import bm3d, BM3DProfile\n",
    "import multiprocessing as mp\n",
    "from skimage.metrics import peak_signal_noise_ratio as compare_psnr\n",
    "from skimage.metrics import structural_similarity as compute_ssim"
   ]
  },
  {
   "cell_type": "code",
   "execution_count": null,
   "id": "492f86d4-a5a8-4c36-8260-a1a01b760ede",
   "metadata": {},
   "outputs": [],
   "source": [
    "Pre-Processing.ipynb\n",
    "data/\n",
    "    dataset/\n",
    "        Free/\n",
    "            IXI-PD\n",
    "                training\n",
    "                    (PD images)\n",
    "                validation\n",
    "                    (PD images)\n",
    "                testing\n",
    "                    (PD images)\n",
    "                \n",
    "            IXI-T2/\n",
    "                training\n",
    "                    (T2 images)\n",
    "                validation\n",
    "                    (T2 images)\n",
    "                testing\n",
    "                    (T2 images)\n",
    "        noise_{noise_level}/\n",
    "            testing\n",
    "                IXI-PD/\n",
    "                IXI-T2/\n",
    "            validation\n",
    "                IXI-PD/\n",
    "                IXI-T2/\n",
    "            training\n",
    "                IXI-PD/\n",
    "                IXI-T2/\n",
    "    patchs32_32_{noise_level}/\n",
    "        free/\n",
    "            testing\n",
    "                IXI-PD/\n",
    "                IXI-T2/\n",
    "            validation\n",
    "                IXI-PD/\n",
    "                IXI-T2/\n",
    "            training\n",
    "IXI-PD/\n",
    "                IXI-T2/\n",
    "        noised/\n",
    "            testing\n",
    "                IXI-PD/\n",
    "                IXI-T2/\n",
    "            validation\n",
    "                IXI-PD/\n",
    "                IXI-T2/\n",
    "            training\n",
    "                IXI-PD/\n",
    "                IXI-T2/\n",
    "    mixdata/\n",
    "        free/\n",
    "            IXI-PD\n",
    "                testing\n",
    "                    (PD images)\n",
    "                validation\n",
    "                    (PD images)\n",
    "                training\n",
    "                    (PD images)\n",
    "            IXI-T2/\n",
    "                testing\n",
    "                    (T2 images)\n",
    "validation\n",
    "                    (T2 images)\n",
    "                training\n",
    "                    (T2 images)\n",
    "        noised/\n",
    "            IXI-PD\n",
    "                testing\n",
    "                    (PD images)\n",
    "                validation\n",
    "                    (PD images)\n",
    "                training\n",
    "                    (PD images)\n",
    "            IXI-T2/\n",
    "                testing\n",
    "                    (T2 images)\n",
    "                validation\n",
    "                    (T2 images)\n",
    "                training\n",
    "                    (T2 images)\n",
    "    denoised_images/\n",
    "        patchs32_32_{noise_level}/\n",
    "            noised/\n",
    "                IXI-PD/\n",
    "                    denoised/\n",
    "        patchs32_32_{noise_level}/\n",
    "            noised/\n",
    "                IXI-PD/\n",
    "                    denoised/\n",
    "        patchs32_32_{noise_level}/\n",
    "            noised/\n",
    "                IXI-PD/\n",
    "                    denoised/\n",
    "        patchs32_32_{noise_level}/\n",
    "            noised/\n",
    "                IXI-PD/\n",
    "                    denoised/\n",
    "    reconstructed_images\n",
    "        patchs32_32_{noise_level}/\n",
    "            noised/\n",
    "                IXI-PD/\n",
    "                    reconstructed/\n",
    "            free/\n",
    "        patchs32_32_{noise_level}/\n",
    "            noised/\n",
    "                IXI-PD/\n",
    "                    reconstructed/\n",
    "            free/\n",
    "                IXI-PD/\n",
    "                    reconstructed/\n",
    "        patchs32_32_{noise_level}/\n",
    "            noised/\n",
    "                IXI-PD/\n",
    "                    reconstructed/\n",
    "            free/\n",
    "                IXI-PD/\n",
    "                    reconstructed/\n",
    "        patchs32_32_{noise_level}/\n",
    "            noised/\n",
    "                IXI-PD/\n",
    "                    reconstructed/\n",
    "            free/\n",
    "                IXI-PD/\n",
    "                    reconstructed/"
   ]
  },
  {
   "cell_type": "code",
   "execution_count": null,
   "id": "2b0ea912-83a2-44fe-a620-fcfeb8582cc1",
   "metadata": {},
   "outputs": [],
   "source": [
    "## Please set your working directory to C:\\Users\\YourUsername\\Desktop\\data"
   ]
  },
  {
   "cell_type": "code",
   "execution_count": 29,
   "id": "7a65864c-cb3a-41dd-ad21-6e5ff84e83d2",
   "metadata": {},
   "outputs": [],
   "source": [
    "## Recontructing the images from the patches does in preprocessing"
   ]
  },
  {
   "cell_type": "code",
   "execution_count": 2,
   "id": "263cb445-acdb-42ca-b522-eda13234fb55",
   "metadata": {},
   "outputs": [],
   "source": [
    "\n",
    "def reconstruct_image_from_patches(patch_file):\n",
    "    #From Preprocessing Code used to create patches\n",
    "    patch_size=32\n",
    "    stride=8\n",
    "\n",
    "    patches = np.load(patch_file)  \n",
    "    patches = np.squeeze(patches)  # get rid of channel 1\n",
    "    patches = patches.transpose(0, 2, 3, 1)  # Shape: (num, 32, 32, 6)\n",
    "    num = patches.shape[0]\n",
    "    row = int(np.sqrt(num))\n",
    "    col = row\n",
    "    reconstructed_height = (row - 1) * stride + patch_size\n",
    "    reconstructed_width = (col - 1) * stride + patch_size\n",
    "    depth = 6\n",
    "\n",
    "    row = int(np.sqrt(num))\n",
    "    col = row\n",
    "    reconstructed_height = (row - 1) * stride + patch_size\n",
    "    reconstructed_width = (col - 1) * stride + patch_size\n",
    "    \n",
    "    reconstructed_image = np.zeros((reconstructed_height, reconstructed_width, depth), dtype=np.float32) #initalize matrix for image with zeros\n",
    "    weight_matrix = np.zeros((reconstructed_height, reconstructed_width, depth), dtype=np.float32)\n",
    "\n",
    "    \n",
    "    index = 0\n",
    "    for y in range(0, reconstructed_height - patch_size + 1, stride): #going through height\n",
    "        for x in range(0, reconstructed_width - patch_size + 1, stride): #going through width of image\n",
    "            if index >= num: #end when number of patches\n",
    "                break #done before the rest to avoid extra iterations\n",
    "            patch = patches[index] #picks out patch to add to image matrix\n",
    "            reconstructed_image[y:y+patch_size, x:x+patch_size, :] += patch #adds patch to image\n",
    "            weight_matrix[y:y+patch_size, x:x+patch_size, :] += 1 #used to deal with the inherent overlapping of the patches\n",
    "            index += 1\n",
    "\n",
    "    # Normalize overlapping \n",
    "    weight_matrix[weight_matrix == 0] = 1\n",
    "    reconstructed_image /= weight_matrix\n",
    "\n",
    "    return reconstructed_image\n",
    "\n"
   ]
  },
  {
   "cell_type": "code",
   "execution_count": 3,
   "id": "86e886af-7ade-49a1-8ef1-8c8578180dde",
   "metadata": {},
   "outputs": [],
   "source": [
    "def reconstruct_all_images(base_dir, output_base_dir):\n",
    "    noise_levels = [1, 7, 13] \n",
    "    data_types = ['free', 'noised']\n",
    "    modality = 'IXI-PD'\n",
    "    dataset_split = 'testing'\n",
    "\n",
    "    for x in noise_levels:\n",
    "        \n",
    "        patches_dir = os.path.join(base_dir, f'patchs32_32_{x}')\n",
    "        print(f\"Patches directory: {os.path.abspath(patches_dir)}\")\n",
    "        for a in data_types:\n",
    "            \n",
    "            data_dir = os.path.join(patches_dir, a, modality, dataset_split)\n",
    "            print(f\"Data directory: {os.path.abspath(data_dir)}\")\n",
    "            if not os.path.exists(data_dir):\n",
    "                print(f\"Directory does not exist: {os.path.abspath(data_dir)}\")\n",
    "                continue\n",
    "            \n",
    "            patch_files = [f for f in os.listdir(data_dir) if f.endswith('.npy')] #getting all patch files\n",
    "            \n",
    "            for patch_file in tqdm(patch_files, desc=f\"Processing {a} data at noise level {x}\"):\n",
    "              \n",
    "                patch_file_path = os.path.join(data_dir, patch_file)\n",
    "        \n",
    "                reconstructed_image = reconstruct_image_from_patches(patch_file_path) #Using patch reconstruction image from above\n",
    "                \n",
    "                output_dir = os.path.join(output_base_dir, f'patchs32_32_{x}',a, modality,'reconstructed')\n",
    "              \n",
    "                os.makedirs(output_dir, exist_ok=True)\n",
    "                \n",
    "                output_file_path = os.path.join(output_dir, patch_file.replace('.npy', '_reconstructed.npy'))\n",
    "                \n",
    "                np.save(output_file_path, reconstructed_image)"
   ]
  },
  {
   "cell_type": "code",
   "execution_count": 4,
   "id": "efaafe0f-7154-404d-ae81-b677e4f6d3f8",
   "metadata": {},
   "outputs": [
    {
     "name": "stdout",
     "output_type": "stream",
     "text": [
      "Current working directory: C:\\Users\\Regina\\Desktop\\Progress Report 2\n",
      "Base directory (absolute path): C:\\Users\\Regina\\Desktop\\Progress Report 2\n",
      "Output directory (absolute path): C:\\Users\\Regina\\Desktop\\Progress Report 2\\reconstructed_images\n",
      "Patches directory: C:\\Users\\Regina\\Desktop\\Progress Report 2\\patchs32_32_1\n",
      "Data directory: C:\\Users\\Regina\\Desktop\\Progress Report 2\\patchs32_32_1\\free\\IXI-PD\\testing\n"
     ]
    },
    {
     "name": "stderr",
     "output_type": "stream",
     "text": [
      "Processing free data at noise level 1: 100%|██████████| 10/10 [00:01<00:00,  8.50it/s]\n"
     ]
    },
    {
     "name": "stdout",
     "output_type": "stream",
     "text": [
      "Data directory: C:\\Users\\Regina\\Desktop\\Progress Report 2\\patchs32_32_1\\noised\\IXI-PD\\testing\n"
     ]
    },
    {
     "name": "stderr",
     "output_type": "stream",
     "text": [
      "Processing noised data at noise level 1: 100%|██████████| 10/10 [00:01<00:00,  8.14it/s]\n"
     ]
    },
    {
     "name": "stdout",
     "output_type": "stream",
     "text": [
      "Patches directory: C:\\Users\\Regina\\Desktop\\Progress Report 2\\patchs32_32_7\n",
      "Data directory: C:\\Users\\Regina\\Desktop\\Progress Report 2\\patchs32_32_7\\free\\IXI-PD\\testing\n"
     ]
    },
    {
     "name": "stderr",
     "output_type": "stream",
     "text": [
      "Processing free data at noise level 7: 100%|██████████| 10/10 [00:01<00:00,  9.60it/s]\n"
     ]
    },
    {
     "name": "stdout",
     "output_type": "stream",
     "text": [
      "Data directory: C:\\Users\\Regina\\Desktop\\Progress Report 2\\patchs32_32_7\\noised\\IXI-PD\\testing\n"
     ]
    },
    {
     "name": "stderr",
     "output_type": "stream",
     "text": [
      "Processing noised data at noise level 7: 100%|██████████| 10/10 [00:01<00:00,  8.03it/s]\n"
     ]
    },
    {
     "name": "stdout",
     "output_type": "stream",
     "text": [
      "Patches directory: C:\\Users\\Regina\\Desktop\\Progress Report 2\\patchs32_32_13\n",
      "Data directory: C:\\Users\\Regina\\Desktop\\Progress Report 2\\patchs32_32_13\\free\\IXI-PD\\testing\n"
     ]
    },
    {
     "name": "stderr",
     "output_type": "stream",
     "text": [
      "Processing free data at noise level 13: 100%|██████████| 10/10 [00:01<00:00,  9.69it/s]\n"
     ]
    },
    {
     "name": "stdout",
     "output_type": "stream",
     "text": [
      "Data directory: C:\\Users\\Regina\\Desktop\\Progress Report 2\\patchs32_32_13\\noised\\IXI-PD\\testing\n"
     ]
    },
    {
     "name": "stderr",
     "output_type": "stream",
     "text": [
      "Processing noised data at noise level 13: 100%|██████████| 10/10 [00:01<00:00,  8.90it/s]\n"
     ]
    }
   ],
   "source": [
    "\n",
    "if __name__ == '__main__':\n",
    "    # Set base_dir to the current working directory\n",
    "    base_dir = os.getcwd()\n",
    "\n",
    "    # Set output_base_dir relative to base_dir\n",
    "    output_base_dir = os.path.join(base_dir, 'reconstructed_images')\n",
    "\n",
    "    # Print the paths to verify\n",
    "    print(f\"Current working directory: {base_dir}\")\n",
    "    print(f\"Base directory (absolute path): {os.path.abspath(base_dir)}\")\n",
    "    print(f\"Output directory (absolute path): {os.path.abspath(output_base_dir)}\")\n",
    "\n",
    "    reconstruct_all_images(base_dir, output_base_dir)"
   ]
  },
  {
   "cell_type": "code",
   "execution_count": null,
   "id": "533296da-6a83-46b4-84ff-d878c9ff9028",
   "metadata": {},
   "outputs": [],
   "source": [
    "## BM3D on noised MRIs"
   ]
  },
  {
   "cell_type": "code",
   "execution_count": 5,
   "id": "08ea7333-fd2a-4fff-b669-7a17da92fdfe",
   "metadata": {},
   "outputs": [],
   "source": [
    "def denoise_all_reconstructed_images(reconstructed_base_dir, denoised_base_dir):\n",
    "    noise_levels = [1, 7, 13]  \n",
    "    types = 'noised'  \n",
    "    modality = 'IXI-PD' #the preprocessing code includes IXI-T2 images but to cut down data we are only working with IXI-T2\n",
    "    \n",
    "\n",
    "    for x in noise_levels:\n",
    "        \n",
    "        patches_dir = os.path.join(reconstructed_base_dir, f'patchs32_32_{x}')\n",
    "        \n",
    "        reconstructed_dir = os.path.join(patches_dir,types,modality,'reconstructed')\n",
    "   \n",
    "        \n",
    "       \n",
    "        reconstructed_files = [f for f in os.listdir(reconstructed_dir) if f.endswith('_reconstructed.npy')]\n",
    "        \n",
    "        for reconstructed_file in tqdm(reconstructed_files, desc=f\"Processing noise level {x}\"):\n",
    "            reconstructed_file_path = os.path.join(reconstructed_dir, reconstructed_file)\n",
    "            reconstructed_image = np.load(reconstructed_file_path)\n",
    "            \n",
    "            # normalizing (not sure if needed but done in case\n",
    "            reconstructed_image = reconstructed_image.astype(np.float32)\n",
    "            reconstructed_image -= reconstructed_image.min()\n",
    "            reconstructed_image /= reconstructed_image.max()\n",
    "       \n",
    "            \n",
    "            \n",
    "            #this is an estimate of the sigma_psd\n",
    "            sigma_psd =x/100.0\n",
    "            \n",
    "            \n",
    "            # BM3D\n",
    "            denoised_slices = [] #initalize\n",
    "            for i in range(reconstructed_image.shape[2]): #accessing slices\n",
    "                slice = reconstructed_image[:, :, i]\n",
    "                denoised_slice = bm3d(slice, sigma_psd)\n",
    "                denoised_slices.append(denoised_slice)\n",
    "            denoised_image = np.stack(denoised_slices, axis=-1)\n",
    "            \n",
    "            \n",
    "            denoised_dir = os.path.join(denoised_base_dir,f'patchs32_32_{x}',types,modality,'denoised')\n",
    "            os.makedirs(denoised_dir, exist_ok=True)\n",
    "            \n",
    "            name = reconstructed_file.replace('_reconstructed.npy', '_denoised.npy')\n",
    "            denoised_file_path = os.path.join(denoised_dir, name)\n",
    "            np.save(denoised_file_path, denoised_image)\n",
    "            \n",
    " \n",
    "            print(f\"Denoised image saved to {denoised_file_path}\")\n",
    "\n"
   ]
  },
  {
   "cell_type": "code",
   "execution_count": 6,
   "id": "51f0e623-53d8-49d0-9e50-0bdfef31387d",
   "metadata": {},
   "outputs": [
    {
     "name": "stderr",
     "output_type": "stream",
     "text": [
      "Processing noise level 1:  10%|█         | 1/10 [00:16<02:24, 16.07s/it]"
     ]
    },
    {
     "name": "stdout",
     "output_type": "stream",
     "text": [
      "Denoised image saved to C:\\Users\\Regina\\Desktop\\Progress Report 2\\denoised_images\\patchs32_32_1\\noised\\IXI-PD\\denoised\\IXI160-HH-1637-PD-1_denoised.npy\n"
     ]
    },
    {
     "name": "stderr",
     "output_type": "stream",
     "text": [
      "Processing noise level 1:  20%|██        | 2/10 [00:30<02:02, 15.31s/it]"
     ]
    },
    {
     "name": "stdout",
     "output_type": "stream",
     "text": [
      "Denoised image saved to C:\\Users\\Regina\\Desktop\\Progress Report 2\\denoised_images\\patchs32_32_1\\noised\\IXI-PD\\denoised\\IXI161-HH-2533-PD-1_denoised.npy\n"
     ]
    },
    {
     "name": "stderr",
     "output_type": "stream",
     "text": [
      "Processing noise level 1:  30%|███       | 3/10 [00:46<01:48, 15.53s/it]"
     ]
    },
    {
     "name": "stdout",
     "output_type": "stream",
     "text": [
      "Denoised image saved to C:\\Users\\Regina\\Desktop\\Progress Report 2\\denoised_images\\patchs32_32_1\\noised\\IXI-PD\\denoised\\IXI162-HH-1548-PD-1_denoised.npy\n"
     ]
    },
    {
     "name": "stderr",
     "output_type": "stream",
     "text": [
      "Processing noise level 1:  40%|████      | 4/10 [01:01<01:32, 15.38s/it]"
     ]
    },
    {
     "name": "stdout",
     "output_type": "stream",
     "text": [
      "Denoised image saved to C:\\Users\\Regina\\Desktop\\Progress Report 2\\denoised_images\\patchs32_32_1\\noised\\IXI-PD\\denoised\\IXI163-HH-1621-PD-1_denoised.npy\n"
     ]
    },
    {
     "name": "stderr",
     "output_type": "stream",
     "text": [
      "Processing noise level 1:  50%|█████     | 5/10 [01:16<01:15, 15.06s/it]"
     ]
    },
    {
     "name": "stdout",
     "output_type": "stream",
     "text": [
      "Denoised image saved to C:\\Users\\Regina\\Desktop\\Progress Report 2\\denoised_images\\patchs32_32_1\\noised\\IXI-PD\\denoised\\IXI165-HH-1589-PD-1_denoised.npy\n"
     ]
    },
    {
     "name": "stderr",
     "output_type": "stream",
     "text": [
      "Processing noise level 1:  60%|██████    | 6/10 [01:30<00:59, 14.90s/it]"
     ]
    },
    {
     "name": "stdout",
     "output_type": "stream",
     "text": [
      "Denoised image saved to C:\\Users\\Regina\\Desktop\\Progress Report 2\\denoised_images\\patchs32_32_1\\noised\\IXI-PD\\denoised\\IXI167-HH-1569-PD-1_denoised.npy\n"
     ]
    },
    {
     "name": "stderr",
     "output_type": "stream",
     "text": [
      "Processing noise level 1:  70%|███████   | 7/10 [01:46<00:45, 15.06s/it]"
     ]
    },
    {
     "name": "stdout",
     "output_type": "stream",
     "text": [
      "Denoised image saved to C:\\Users\\Regina\\Desktop\\Progress Report 2\\denoised_images\\patchs32_32_1\\noised\\IXI-PD\\denoised\\IXI168-HH-1607-PD-1_denoised.npy\n"
     ]
    },
    {
     "name": "stderr",
     "output_type": "stream",
     "text": [
      "Processing noise level 1:  80%|████████  | 8/10 [02:00<00:29, 14.67s/it]"
     ]
    },
    {
     "name": "stdout",
     "output_type": "stream",
     "text": [
      "Denoised image saved to C:\\Users\\Regina\\Desktop\\Progress Report 2\\denoised_images\\patchs32_32_1\\noised\\IXI-PD\\denoised\\IXI173-HH-1590-PD-1_denoised.npy\n"
     ]
    },
    {
     "name": "stderr",
     "output_type": "stream",
     "text": [
      "Processing noise level 1:  90%|█████████ | 9/10 [02:14<00:14, 14.61s/it]"
     ]
    },
    {
     "name": "stdout",
     "output_type": "stream",
     "text": [
      "Denoised image saved to C:\\Users\\Regina\\Desktop\\Progress Report 2\\denoised_images\\patchs32_32_1\\noised\\IXI-PD\\denoised\\IXI174-HH-1571-PD-1_denoised.npy\n"
     ]
    },
    {
     "name": "stderr",
     "output_type": "stream",
     "text": [
      "Processing noise level 1: 100%|██████████| 10/10 [02:28<00:00, 14.85s/it]\n"
     ]
    },
    {
     "name": "stdout",
     "output_type": "stream",
     "text": [
      "Denoised image saved to C:\\Users\\Regina\\Desktop\\Progress Report 2\\denoised_images\\patchs32_32_1\\noised\\IXI-PD\\denoised\\IXI175-HH-1570-PD-1_denoised.npy\n"
     ]
    },
    {
     "name": "stderr",
     "output_type": "stream",
     "text": [
      "Processing noise level 7:  10%|█         | 1/10 [00:14<02:12, 14.67s/it]"
     ]
    },
    {
     "name": "stdout",
     "output_type": "stream",
     "text": [
      "Denoised image saved to C:\\Users\\Regina\\Desktop\\Progress Report 2\\denoised_images\\patchs32_32_7\\noised\\IXI-PD\\denoised\\IXI160-HH-1637-PD-7_denoised.npy\n"
     ]
    },
    {
     "name": "stderr",
     "output_type": "stream",
     "text": [
      "Processing noise level 7:  20%|██        | 2/10 [00:28<01:54, 14.28s/it]"
     ]
    },
    {
     "name": "stdout",
     "output_type": "stream",
     "text": [
      "Denoised image saved to C:\\Users\\Regina\\Desktop\\Progress Report 2\\denoised_images\\patchs32_32_7\\noised\\IXI-PD\\denoised\\IXI161-HH-2533-PD-7_denoised.npy\n"
     ]
    },
    {
     "name": "stderr",
     "output_type": "stream",
     "text": [
      "Processing noise level 7:  30%|███       | 3/10 [00:42<01:39, 14.24s/it]"
     ]
    },
    {
     "name": "stdout",
     "output_type": "stream",
     "text": [
      "Denoised image saved to C:\\Users\\Regina\\Desktop\\Progress Report 2\\denoised_images\\patchs32_32_7\\noised\\IXI-PD\\denoised\\IXI162-HH-1548-PD-7_denoised.npy\n"
     ]
    },
    {
     "name": "stderr",
     "output_type": "stream",
     "text": [
      "Processing noise level 7:  40%|████      | 4/10 [00:57<01:25, 14.27s/it]"
     ]
    },
    {
     "name": "stdout",
     "output_type": "stream",
     "text": [
      "Denoised image saved to C:\\Users\\Regina\\Desktop\\Progress Report 2\\denoised_images\\patchs32_32_7\\noised\\IXI-PD\\denoised\\IXI165-HH-1589-PD-7_denoised.npy\n"
     ]
    },
    {
     "name": "stderr",
     "output_type": "stream",
     "text": [
      "Processing noise level 7:  50%|█████     | 5/10 [01:11<01:11, 14.38s/it]"
     ]
    },
    {
     "name": "stdout",
     "output_type": "stream",
     "text": [
      "Denoised image saved to C:\\Users\\Regina\\Desktop\\Progress Report 2\\denoised_images\\patchs32_32_7\\noised\\IXI-PD\\denoised\\IXI167-HH-1569-PD-7_denoised.npy\n"
     ]
    },
    {
     "name": "stderr",
     "output_type": "stream",
     "text": [
      "Processing noise level 7:  60%|██████    | 6/10 [01:25<00:57, 14.28s/it]"
     ]
    },
    {
     "name": "stdout",
     "output_type": "stream",
     "text": [
      "Denoised image saved to C:\\Users\\Regina\\Desktop\\Progress Report 2\\denoised_images\\patchs32_32_7\\noised\\IXI-PD\\denoised\\IXI168-HH-1607-PD-7_denoised.npy\n"
     ]
    },
    {
     "name": "stderr",
     "output_type": "stream",
     "text": [
      "Processing noise level 7:  70%|███████   | 7/10 [01:39<00:42, 14.12s/it]"
     ]
    },
    {
     "name": "stdout",
     "output_type": "stream",
     "text": [
      "Denoised image saved to C:\\Users\\Regina\\Desktop\\Progress Report 2\\denoised_images\\patchs32_32_7\\noised\\IXI-PD\\denoised\\IXI173-HH-1590-PD-7_denoised.npy\n"
     ]
    },
    {
     "name": "stderr",
     "output_type": "stream",
     "text": [
      "Processing noise level 7:  80%|████████  | 8/10 [02:00<00:32, 16.16s/it]"
     ]
    },
    {
     "name": "stdout",
     "output_type": "stream",
     "text": [
      "Denoised image saved to C:\\Users\\Regina\\Desktop\\Progress Report 2\\denoised_images\\patchs32_32_7\\noised\\IXI-PD\\denoised\\IXI174-HH-1571-PD-7_denoised.npy\n"
     ]
    },
    {
     "name": "stderr",
     "output_type": "stream",
     "text": [
      "Processing noise level 7:  90%|█████████ | 9/10 [02:24<00:18, 18.66s/it]"
     ]
    },
    {
     "name": "stdout",
     "output_type": "stream",
     "text": [
      "Denoised image saved to C:\\Users\\Regina\\Desktop\\Progress Report 2\\denoised_images\\patchs32_32_7\\noised\\IXI-PD\\denoised\\IXI175-HH-1570-PD-7_denoised.npy\n"
     ]
    },
    {
     "name": "stderr",
     "output_type": "stream",
     "text": [
      "Processing noise level 7: 100%|██████████| 10/10 [02:41<00:00, 16.10s/it]\n"
     ]
    },
    {
     "name": "stdout",
     "output_type": "stream",
     "text": [
      "Denoised image saved to C:\\Users\\Regina\\Desktop\\Progress Report 2\\denoised_images\\patchs32_32_7\\noised\\IXI-PD\\denoised\\IXI176-HH-1604-PD-7_denoised.npy\n"
     ]
    },
    {
     "name": "stderr",
     "output_type": "stream",
     "text": [
      "Processing noise level 13:  10%|█         | 1/10 [00:16<02:24, 16.04s/it]"
     ]
    },
    {
     "name": "stdout",
     "output_type": "stream",
     "text": [
      "Denoised image saved to C:\\Users\\Regina\\Desktop\\Progress Report 2\\denoised_images\\patchs32_32_13\\noised\\IXI-PD\\denoised\\IXI160-HH-1637-PD-13_denoised.npy\n"
     ]
    },
    {
     "name": "stderr",
     "output_type": "stream",
     "text": [
      "Processing noise level 13:  20%|██        | 2/10 [00:34<02:21, 17.65s/it]"
     ]
    },
    {
     "name": "stdout",
     "output_type": "stream",
     "text": [
      "Denoised image saved to C:\\Users\\Regina\\Desktop\\Progress Report 2\\denoised_images\\patchs32_32_13\\noised\\IXI-PD\\denoised\\IXI161-HH-2533-PD-13_denoised.npy\n"
     ]
    },
    {
     "name": "stderr",
     "output_type": "stream",
     "text": [
      "Processing noise level 13:  30%|███       | 3/10 [00:52<02:04, 17.85s/it]"
     ]
    },
    {
     "name": "stdout",
     "output_type": "stream",
     "text": [
      "Denoised image saved to C:\\Users\\Regina\\Desktop\\Progress Report 2\\denoised_images\\patchs32_32_13\\noised\\IXI-PD\\denoised\\IXI162-HH-1548-PD-13_denoised.npy\n"
     ]
    },
    {
     "name": "stderr",
     "output_type": "stream",
     "text": [
      "Processing noise level 13:  40%|████      | 4/10 [01:12<01:50, 18.40s/it]"
     ]
    },
    {
     "name": "stdout",
     "output_type": "stream",
     "text": [
      "Denoised image saved to C:\\Users\\Regina\\Desktop\\Progress Report 2\\denoised_images\\patchs32_32_13\\noised\\IXI-PD\\denoised\\IXI165-HH-1589-PD-13_denoised.npy\n"
     ]
    },
    {
     "name": "stderr",
     "output_type": "stream",
     "text": [
      "Processing noise level 13:  50%|█████     | 5/10 [01:26<01:24, 16.94s/it]"
     ]
    },
    {
     "name": "stdout",
     "output_type": "stream",
     "text": [
      "Denoised image saved to C:\\Users\\Regina\\Desktop\\Progress Report 2\\denoised_images\\patchs32_32_13\\noised\\IXI-PD\\denoised\\IXI167-HH-1569-PD-13_denoised.npy\n"
     ]
    },
    {
     "name": "stderr",
     "output_type": "stream",
     "text": [
      "Processing noise level 13:  60%|██████    | 6/10 [01:40<01:03, 15.91s/it]"
     ]
    },
    {
     "name": "stdout",
     "output_type": "stream",
     "text": [
      "Denoised image saved to C:\\Users\\Regina\\Desktop\\Progress Report 2\\denoised_images\\patchs32_32_13\\noised\\IXI-PD\\denoised\\IXI168-HH-1607-PD-13_denoised.npy\n"
     ]
    },
    {
     "name": "stderr",
     "output_type": "stream",
     "text": [
      "Processing noise level 13:  70%|███████   | 7/10 [01:53<00:45, 15.06s/it]"
     ]
    },
    {
     "name": "stdout",
     "output_type": "stream",
     "text": [
      "Denoised image saved to C:\\Users\\Regina\\Desktop\\Progress Report 2\\denoised_images\\patchs32_32_13\\noised\\IXI-PD\\denoised\\IXI173-HH-1590-PD-13_denoised.npy\n"
     ]
    },
    {
     "name": "stderr",
     "output_type": "stream",
     "text": [
      "Processing noise level 13:  80%|████████  | 8/10 [02:08<00:29, 14.85s/it]"
     ]
    },
    {
     "name": "stdout",
     "output_type": "stream",
     "text": [
      "Denoised image saved to C:\\Users\\Regina\\Desktop\\Progress Report 2\\denoised_images\\patchs32_32_13\\noised\\IXI-PD\\denoised\\IXI174-HH-1571-PD-13_denoised.npy\n"
     ]
    },
    {
     "name": "stderr",
     "output_type": "stream",
     "text": [
      "Processing noise level 13:  90%|█████████ | 9/10 [02:26<00:16, 16.10s/it]"
     ]
    },
    {
     "name": "stdout",
     "output_type": "stream",
     "text": [
      "Denoised image saved to C:\\Users\\Regina\\Desktop\\Progress Report 2\\denoised_images\\patchs32_32_13\\noised\\IXI-PD\\denoised\\IXI175-HH-1570-PD-13_denoised.npy\n"
     ]
    },
    {
     "name": "stderr",
     "output_type": "stream",
     "text": [
      "Processing noise level 13: 100%|██████████| 10/10 [02:49<00:00, 17.00s/it]"
     ]
    },
    {
     "name": "stdout",
     "output_type": "stream",
     "text": [
      "Denoised image saved to C:\\Users\\Regina\\Desktop\\Progress Report 2\\denoised_images\\patchs32_32_13\\noised\\IXI-PD\\denoised\\IXI176-HH-1604-PD-13_denoised.npy\n"
     ]
    },
    {
     "name": "stderr",
     "output_type": "stream",
     "text": [
      "\n"
     ]
    }
   ],
   "source": [
    "if __name__ == '__main__':\n",
    "   \n",
    "    current_dir = os.getcwd()\n",
    "\n",
    "    \n",
    "    reconstructed_base_dir = os.path.join(current_dir, 'reconstructed_images')\n",
    "\n",
    "   \n",
    "    denoised_base_dir = os.path.join(current_dir, 'denoised_images')\n",
    "\n",
    " \n",
    "    denoise_all_reconstructed_images(reconstructed_base_dir, denoised_base_dir)"
   ]
  },
  {
   "cell_type": "code",
   "execution_count": null,
   "id": "a2cb5386-3002-4e86-b267-364aad5fe2b9",
   "metadata": {},
   "outputs": [],
   "source": [
    "## Getting PSNR values"
   ]
  },
  {
   "cell_type": "code",
   "execution_count": 9,
   "id": "5577a47e-3e4c-4eda-a180-6e0161c14a6c",
   "metadata": {},
   "outputs": [],
   "source": [
    "def compute_psnr(truth, target):\n",
    "    #normalizing the free images\n",
    "    truth = truth.astype(np.float32)\n",
    "    target = target.astype(np.float32)\n",
    "    truth -= truth.min()\n",
    "    truth /= truth.max() if truth.max() != 0 else 1\n",
    "    target -= target.min()\n",
    "    target /= target.max() if target.max() != 0 else 1\n",
    "    \n",
    "    # Compute PSNR for each slice\n",
    "    psnr_values = []\n",
    "    num_slices = truth.shape[2]\n",
    "    for i in range(num_slices):\n",
    "        ref_slice = truth[:, :, i]\n",
    "        target_slice = target[:, :, i]\n",
    "        psnr = compare_psnr(ref_slice, target_slice, data_range=1.0)\n",
    "        psnr_values.append(psnr)\n",
    "    return np.mean(psnr_values)  # Average PSNR over slices\n",
    "\n",
    "def main():\n",
    "    base_dir = os.getcwd()\n",
    "    noise_levels = [1, 7, 13]\n",
    "    modality = 'IXI-PD'\n",
    "    averagepsnr_noised = {}\n",
    "    average_psnr_denoised = {}\n",
    "\n",
    "    for x in noise_levels:\n",
    "        \n",
    "        reconstructed_free_dir = os.path.join(base_dir,'reconstructed_images',f'patchs32_32_{x}','free',modality,'reconstructed')\n",
    "        \n",
    "        reconstructed_noised_dir = os.path.join(base_dir,'reconstructed_images',f'patchs32_32_{x}','noised',modality,'reconstructed')\n",
    "       \n",
    "        denoised_dir = os.path.join(base_dir,'denoised_images', f'patchs32_32_{x}','noised',modality,'denoised')\n",
    "\n",
    "        reconstructed_free_files = [f for f in os.listdir(reconstructed_free_dir) if f.endswith('_reconstructed.npy')]\n",
    "        psnr_noised_values = []\n",
    "        psnr_denoised_values = []\n",
    "\n",
    "        for free_file in tqdm(reconstructed_free_files, desc=f\"Processing noise level {x}\"):\n",
    "            base_filename = free_file.replace('_reconstructed.npy', '')\n",
    "            free_image_path = os.path.join(reconstructed_free_dir, free_file)\n",
    "            noised_image_name = base_filename + '_reconstructed.npy'\n",
    "            noised_image_path = os.path.join(reconstructed_noised_dir, noised_image_name)\n",
    "            denoised_image_name = base_filename + '_denoised.npy'\n",
    "            denoised_image_path = os.path.join(denoised_dir, denoised_image_name)\n",
    "            \n",
    "            free_image = np.load(free_image_path)\n",
    "            noised_image = np.load(noised_image_path)\n",
    "            denoised_image = np.load(denoised_image_path)\n",
    "            \n",
    "            # Compute PSNR noised\n",
    "            psnr_noised = compute_psnr(free_image, noised_image)\n",
    "            psnr_noised_values.append(psnr_noised)\n",
    "            \n",
    "            # Compute PSNR denoised\n",
    "            psnr_denoised = compute_psnr(free_image, denoised_image)\n",
    "            psnr_denoised_values.append(psnr_denoised)\n",
    "        \n",
    "        # PSNRs per noise level\n",
    "        if psnr_noised_values:\n",
    "            averagepsnr_noised_level = np.mean(psnr_noised_values)\n",
    "            averagepsnr_noised[x] = averagepsnr_noised_level\n",
    "        else:\n",
    "            averagepsnr_noised[x] = None\n",
    "\n",
    "        if psnr_denoised_values:\n",
    "            average_psnr_denoised_level = np.mean(psnr_denoised_values)\n",
    "            average_psnr_denoised[x] = average_psnr_denoised_level\n",
    "        else:\n",
    "            average_psnr_denoised[x] = None\n",
    "\n",
    "   \n",
    "    print(\"\\nAverage PSNRs for each noise level:\")\n",
    "    print(\"Noise Level\\tNoised PSNR\\tDenoised PSNR\\tImprovement\")\n",
    "    for x in sorted(averagepsnr_noised.keys()):\n",
    "        psnr_noised = averagepsnr_noised[x]\n",
    "        psnr_denoised = average_psnr_denoised[x]\n",
    "        if psnr_noised is not None and psnr_denoised is not None:\n",
    "            improvement = psnr_denoised - psnr_noised\n",
    "            print(f\"{x}\\t\\t{psnr_noised:.2f} dB\\t{psnr_denoised:.2f} dB\\t{improvement:.2f} dB\")"
   ]
  },
  {
   "cell_type": "code",
   "execution_count": 10,
   "id": "b42b4e47-77f8-4ab6-84c7-f141a2341335",
   "metadata": {},
   "outputs": [
    {
     "name": "stderr",
     "output_type": "stream",
     "text": [
      "Processing noise level 1: 100%|██████████| 10/10 [00:00<00:00, 48.14it/s]\n",
      "Processing noise level 7: 100%|██████████| 10/10 [00:00<00:00, 50.97it/s]\n",
      "Processing noise level 13: 100%|██████████| 10/10 [00:00<00:00, 22.86it/s]"
     ]
    },
    {
     "name": "stdout",
     "output_type": "stream",
     "text": [
      "\n",
      "Average PSNRs for each noise level:\n",
      "Noise Level\tNoised PSNR\tDenoised PSNR\tImprovement\n",
      "1\t\t38.30 dB\t40.37 dB\t2.07 dB\n",
      "7\t\t21.71 dB\t25.97 dB\t4.26 dB\n",
      "13\t\t17.13 dB\t24.72 dB\t7.59 dB\n"
     ]
    },
    {
     "name": "stderr",
     "output_type": "stream",
     "text": [
      "\n"
     ]
    }
   ],
   "source": [
    "\n",
    "if __name__ == '__main__':\n",
    "    main()\n"
   ]
  },
  {
   "cell_type": "code",
   "execution_count": 13,
   "id": "e1c410a4-0050-4fce-97d5-6a985904631b",
   "metadata": {},
   "outputs": [],
   "source": [
    "def compute_ssim_metric(truth, target):\n",
    "    \n",
    "    truth = truth.astype(np.float32)\n",
    "    target = target.astype(np.float32)\n",
    "    truth -= truth.min()\n",
    "    truth /= truth.max() if truth.max() != 0 else 1\n",
    "    \n",
    "    target -= target.min()\n",
    "    target /= target.max() if target.max() != 0 else 1\n",
    "    \n",
    "    \n",
    "    ssim_values = []\n",
    "    num_slices = truth.shape[2]\n",
    "    for i in range(num_slices):\n",
    "        ref_slice = truth[:, :, i]\n",
    "        \n",
    "        target_slice = target[:, :, i]\n",
    "        ssim, _ = compute_ssim(ref_slice, target_slice, data_range=1.0, full=True)\n",
    "        ssim_values.append(ssim)\n",
    "        \n",
    "    return np.mean(ssim_values)\n",
    "\n",
    "\n",
    "\n",
    "def main():\n",
    "    base_dir = os.getcwd()\n",
    "    noise_levels = [1, 7, 13]\n",
    "    modality = 'IXI-PD'\n",
    "    average_ssim_noised = {}\n",
    "    average_ssim_denoised = {}\n",
    "\n",
    "    for x in noise_levels:\n",
    "        \n",
    "        reconstructed_free_dir = os.path.join(base_dir,'reconstructed_images',f'patchs32_32_{x}','free',modality,'reconstructed')\n",
    "        \n",
    "        reconstructed_noised_dir = os.path.join(base_dir,'reconstructed_images',f'patchs32_32_{x}','noised',modality,'reconstructed')\n",
    "       \n",
    "        denoised_dir = os.path.join(base_dir,'denoised_images', f'patchs32_32_{x}','noised',modality,'denoised')\n",
    "\n",
    "        reconstructed_free_files = [f for f in os.listdir(reconstructed_free_dir) if f.endswith('_reconstructed.npy')]\n",
    "        ssim_noised_values = []\n",
    "        ssim_denoised_values = []\n",
    "\n",
    "        for free_file in tqdm(reconstructed_free_files, desc=f\"Processing noise level {x}\"):\n",
    "            base_filename = free_file.replace('_reconstructed.npy', '')\n",
    "            free_image_path = os.path.join(reconstructed_free_dir, free_file)\n",
    "            noised_image_name = base_filename + '_reconstructed.npy'\n",
    "            noised_image_path = os.path.join(reconstructed_noised_dir, noised_image_name)\n",
    "            denoised_image_name = base_filename + '_denoised.npy'\n",
    "            denoised_image_path = os.path.join(denoised_dir, denoised_image_name)\n",
    "            \n",
    "            free_image = np.load(free_image_path)\n",
    "            noised_image = np.load(noised_image_path)\n",
    "            denoised_image = np.load(denoised_image_path)\n",
    "            \n",
    "            \n",
    "            ssim_noised = compute_ssim_metric(free_image, noised_image)\n",
    "            ssim_noised_values.append(ssim_noised)\n",
    "            \n",
    "           \n",
    "            ssim_denoised = compute_ssim_metric(free_image, denoised_image)\n",
    "            ssim_denoised_values.append(ssim_denoised)\n",
    "        \n",
    "        \n",
    "        if ssim_noised_values:\n",
    "            average_ssim_noised_level = np.mean(ssim_noised_values)\n",
    "            average_ssim_noised[x] = average_ssim_noised_level\n",
    "        else:\n",
    "            average_ssim_noised[x] = None\n",
    "\n",
    "        if ssim_denoised_values:\n",
    "            average_ssim_denoised_level = np.mean(ssim_denoised_values)\n",
    "            average_ssim_denoised[x] = average_ssim_denoised_level\n",
    "        else:\n",
    "            average_ssim_denoised[x] = None\n",
    "\n",
    "   \n",
    "    print(\"\\nAverage SSIMs for each noise level:\")\n",
    "    print(\"Noise Level\\tNoised SSIM\\tDenoised SSIM\\tImprovement\")\n",
    "    for x in sorted(average_ssim_noised.keys()):\n",
    "        ssim_noised = average_ssim_noised[x]\n",
    "        ssim_denoised = average_ssim_denoised[x]\n",
    "        if ssim_noised is not None and ssim_denoised is not None:\n",
    "            improvement = ssim_denoised - ssim_noised\n",
    "            print(f\"{x}\\t\\t{ssim_noised:.4f}\\t\\t{ssim_denoised:.4f}\\t\\t{improvement:.4f}\")\n"
   ]
  },
  {
   "cell_type": "code",
   "execution_count": 14,
   "id": "99b9d7df-5ef0-498c-9df5-65dbc5f2bf6c",
   "metadata": {},
   "outputs": [
    {
     "name": "stderr",
     "output_type": "stream",
     "text": [
      "Processing noise level 1: 100%|██████████| 10/10 [00:00<00:00, 15.60it/s]\n",
      "Processing noise level 7: 100%|██████████| 10/10 [00:00<00:00, 16.33it/s]\n",
      "Processing noise level 13: 100%|██████████| 10/10 [00:00<00:00, 15.87it/s]"
     ]
    },
    {
     "name": "stdout",
     "output_type": "stream",
     "text": [
      "\n",
      "Average SSIMs for each noise level:\n",
      "Noise Level\tNoised SSIM\tDenoised SSIM\tImprovement\n",
      "1\t\t0.7845\t\t0.8211\t\t0.0366\n",
      "7\t\t0.3344\t\t0.5070\t\t0.1727\n",
      "13\t\t0.2166\t\t0.4595\t\t0.2429\n"
     ]
    },
    {
     "name": "stderr",
     "output_type": "stream",
     "text": [
      "\n"
     ]
    }
   ],
   "source": [
    "\n",
    "if __name__ == '__main__':\n",
    "    main()\n"
   ]
  },
  {
   "cell_type": "code",
   "execution_count": null,
   "id": "3bc49508-066c-4d0c-8b04-2098b6a51041",
   "metadata": {},
   "outputs": [],
   "source": []
  }
 ],
 "metadata": {
  "kernelspec": {
   "display_name": "Python 3 (ipykernel)",
   "language": "python",
   "name": "python3"
  },
  "language_info": {
   "codemirror_mode": {
    "name": "ipython",
    "version": 3
   },
   "file_extension": ".py",
   "mimetype": "text/x-python",
   "name": "python",
   "nbconvert_exporter": "python",
   "pygments_lexer": "ipython3",
   "version": "3.10.14"
  }
 },
 "nbformat": 4,
 "nbformat_minor": 5
}
